{
 "cells": [
  {
   "cell_type": "code",
   "execution_count": null,
   "metadata": {},
   "outputs": [],
   "source": [
    "import numpy as np\n",
    "import pandas as pd\n",
    "import us\n",
    "import matplotlib.pyplot as plt\n",
    "\n",
    "from census import Lookup, State"
   ]
  },
  {
   "cell_type": "code",
   "execution_count": null,
   "metadata": {},
   "outputs": [],
   "source": [
    "# Get B19001 table.\n",
    "\n",
    "lib = Lookup()\n",
    "\n",
    "mainland_state_names = [s.name for s in us.STATES if s.name not in ['Alaska', 'Hawaii']]\n",
    "mainland = [State(state_name, lib) for state_name in mainland_state_names]\n",
    "\n",
    "b19001 = [x.get_geo_table('B19001') for x in mainland]\n",
    "b19001_entire_df = pd.concat([st.data for st in b19001])"
   ]
  },
  {
   "cell_type": "code",
   "execution_count": null,
   "metadata": {},
   "outputs": [],
   "source": [
    "# Open search result\n",
    "results = pd.read_csv('SearchResult.csv', index_col=0)"
   ]
  },
  {
   "cell_type": "code",
   "execution_count": null,
   "metadata": {},
   "outputs": [],
   "source": [
    "# Get region information\n",
    "regions = [np.array([y for y in x if y != 0]) for x in np.genfromtxt('TargetRegions.csv', delimiter=',', dtype=np.int)]"
   ]
  },
  {
   "cell_type": "code",
   "execution_count": null,
   "metadata": {},
   "outputs": [],
   "source": [
    "# Set a value for the regions we want to target.\n",
    "active_regions = np.zeros(len(b19001_entire_df), dtype=np.int)\n",
    "active_regions[regions[0]] = 1\n",
    "b19001_entire_df['TargetRegions'] = active_regions"
   ]
  },
  {
   "cell_type": "code",
   "execution_count": null,
   "metadata": {},
   "outputs": [],
   "source": [
    "# Get the region information for the second region.\n",
    "regions2 = [np.array([y for y in x if y != 0]) for x in np.genfromtxt('TwoTargetRegions.csv', delimiter=',', dtype=np.int)]"
   ]
  },
  {
   "cell_type": "code",
   "execution_count": null,
   "metadata": {},
   "outputs": [],
   "source": [
    "# Get the states corresponding to the target areas.\n",
    "s1 = State('California', lib)\n",
    "s2 = State('Florida', lib)\n",
    "\n",
    "d1 = s1.get_geo_table('B19001').data\n",
    "d2 = s2.get_geo_table('B19001').data"
   ]
  },
  {
   "cell_type": "code",
   "execution_count": null,
   "metadata": {},
   "outputs": [],
   "source": [
    "target_geoids1 = b19001_entire_df.iloc[regions2[0]]['GEOID12']\n",
    "target_geoids2 = b19001_entire_df.iloc[regions2[1]]['GEOID12']"
   ]
  },
  {
   "cell_type": "code",
   "execution_count": null,
   "metadata": {},
   "outputs": [],
   "source": [
    "d1['target'] = d1['GEOID12'].isin(target_geoids1)\n",
    "d2['target'] = d2['GEOID12'].isin(target_geoids2)"
   ]
  },
  {
   "cell_type": "code",
   "execution_count": null,
   "metadata": {},
   "outputs": [],
   "source": [
    "fig, ax = plt.subplots(1, 1, dpi=180, figsize=(20, 20))\n",
    "d1.plot(column='target', ax=ax, cmap='GnBu', vmin=-.75, vmax=1.25)\n",
    "fig.savefig('California.png')"
   ]
  },
  {
   "cell_type": "code",
   "execution_count": null,
   "metadata": {},
   "outputs": [],
   "source": [
    "fig, ax = plt.subplots(1, 1, dpi=180, figsize=(20, 20))\n",
    "d2.plot(column='target', ax=ax, cmap='GnBu', vmin=-.75, vmax=1.25)\n",
    "fig.savefig('Florida.png')"
   ]
  },
  {
   "cell_type": "code",
   "execution_count": null,
   "metadata": {},
   "outputs": [],
   "source": []
  }
 ],
 "metadata": {
  "kernelspec": {
   "display_name": "Geo Python",
   "language": "python",
   "name": "geo"
  },
  "language_info": {
   "codemirror_mode": {
    "name": "ipython",
    "version": 3
   },
   "file_extension": ".py",
   "mimetype": "text/x-python",
   "name": "python",
   "nbconvert_exporter": "python",
   "pygments_lexer": "ipython3",
   "version": "3.7.9"
  }
 },
 "nbformat": 4,
 "nbformat_minor": 4
}
