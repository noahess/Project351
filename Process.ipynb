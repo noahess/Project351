{
 "cells": [
  {
   "cell_type": "markdown",
   "metadata": {},
   "source": [
    "# Process Start"
   ]
  },
  {
   "cell_type": "code",
   "execution_count": null,
   "metadata": {},
   "outputs": [],
   "source": [
    "from census import Lookup, State\n",
    "import numpy as np\n",
    "\n",
    "import us\n",
    "import pandas as pd"
   ]
  },
  {
   "cell_type": "code",
   "execution_count": null,
   "metadata": {},
   "outputs": [],
   "source": [
    "lib = Lookup()    # Initialize the library of states"
   ]
  },
  {
   "cell_type": "code",
   "execution_count": null,
   "metadata": {},
   "outputs": [],
   "source": [
    "# Get all mainland states\n",
    "mainland_state_names = [s.name for s in us.STATES if s.name not in ['Alaska', 'Hawaii']]\n",
    "mainland = [State(state_name, lib) for state_name in mainland_state_names]\n",
    "\n",
    "# Get table B19001\n",
    "b19001 = [x.get_geo_table('B19001') for x in mainland]\n",
    "b19001_entire_df = pd.concat([st.data for st in b19001])"
   ]
  },
  {
   "cell_type": "code",
   "execution_count": null,
   "metadata": {},
   "outputs": [],
   "source": [
    "# Assume Earth is a sphere, convert to xyz coordinates so we can eventually construct a KD-tree using the 2-norm\n",
    "def centroid_xyz(arr):\n",
    "    r = 3958.8 # miles\n",
    "    pre_in = np.array([[t[0] for t in x.xy] for x in arr.to_list()])\n",
    "    theta, phi = np.split(pre_in, 2, axis=1)\n",
    "    phi = 90 - phi\n",
    "    phi *= np.pi / 180\n",
    "    theta *= np.pi / 180\n",
    "    x = r * np.sin(phi) * np.cos(theta)\n",
    "    y = r * np.sin(phi) * np.sin(theta)\n",
    "    z = r * np.cos(phi)\n",
    "    return np.hstack([x, y, z])"
   ]
  },
  {
   "cell_type": "code",
   "execution_count": null,
   "metadata": {},
   "outputs": [],
   "source": [
    "# Get the centroid for every block group in the US.\n",
    "cxyz = centroid_xyz(b19001_entire_df.centroid)"
   ]
  },
  {
   "cell_type": "code",
   "execution_count": null,
   "metadata": {},
   "outputs": [],
   "source": [
    "# Append centroids to the table.\n",
    "b19001_entire_df['CentroidX'] = cxyz[:, 0]\n",
    "b19001_entire_df['CentroidY'] = cxyz[:, 1]\n",
    "b19001_entire_df['CentroidZ'] = cxyz[:, 2]"
   ]
  },
  {
   "cell_type": "code",
   "execution_count": null,
   "metadata": {},
   "outputs": [],
   "source": [
    "# Drop the shapes and keep only the centroids - now the DF is only numbers and text.\n",
    "b19001_reduced_df = b19001_entire_df.drop(columns='geometry')"
   ]
  },
  {
   "cell_type": "code",
   "execution_count": null,
   "metadata": {},
   "outputs": [],
   "source": [
    "s# Save the file to a parquet\n",
    "b19001_reduced_df.to_parquet('B19001_no_geometry.parquet')"
   ]
  }
 ],
 "metadata": {
  "kernelspec": {
   "display_name": "Geo Python",
   "language": "python",
   "name": "geo"
  },
  "language_info": {
   "codemirror_mode": {
    "name": "ipython",
    "version": 3
   },
   "file_extension": ".py",
   "mimetype": "text/x-python",
   "name": "python",
   "nbconvert_exporter": "python",
   "pygments_lexer": "ipython3",
   "version": "3.7.9"
  }
 },
 "nbformat": 4,
 "nbformat_minor": 4
}
